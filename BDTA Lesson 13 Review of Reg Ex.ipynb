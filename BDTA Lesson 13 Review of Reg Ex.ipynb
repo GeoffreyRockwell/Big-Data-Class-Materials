{
 "cells": [
  {
   "cell_type": "markdown",
   "metadata": {},
   "source": [
    "# BDTA Lesson 13 Review of Regular Expressions\n",
    "\n",
    "This is a review of regular expressions. In some ways it is easier to try a regular expression tester like:\n",
    "* [RegEx Tester](https://pythex.org/)"
   ]
  },
  {
   "cell_type": "markdown",
   "metadata": {},
   "source": [
    "First we set up a text to work on."
   ]
  },
  {
   "cell_type": "code",
   "execution_count": 2,
   "metadata": {
    "collapsed": true
   },
   "outputs": [],
   "source": [
    "import re\n",
    "\n",
    "test = '''<html>\n",
    "<head>\n",
    "<title>An example text for regular expressions</title>\n",
    "</head>\n",
    "<body>\n",
    "<p>Here is an example of a using <i>regular expressions.</i> This example\n",
    "shows how you can do different things with regular expressions. Don't be shy to try them. \n",
    "A word to the wise, however. Don't be greedy.</p>\n",
    "\n",
    "<p>Some of the difficulties that we can have are finding and tokenizing hyphenated words \n",
    "like tip-off and long-term.</p>\n",
    "\n",
    "<p>Here are some dates: 1987, 1990, 1389, 2017 and 2027.</p>\n",
    "\n",
    "<p>Here are some words that are similar woman, women, ...</p>\n",
    "\n",
    "<p>Prepared 2017.10.15</p>\n",
    "</body>\n",
    "</html>'''"
   ]
  },
  {
   "cell_type": "markdown",
   "metadata": {},
   "source": [
    "You can use regex to find an exact sequence of characters."
   ]
  },
  {
   "cell_type": "code",
   "execution_count": 4,
   "metadata": {},
   "outputs": [
    {
     "name": "stdout",
     "output_type": "stream",
     "text": [
      "['the', 'the']\n"
     ]
    }
   ],
   "source": [
    "matches = re.findall(r'the',test)\n",
    "print(matches)"
   ]
  },
  {
   "cell_type": "markdown",
   "metadata": {},
   "source": [
    "You can use it to find a pattern with a set of possible characters using **[ ]**."
   ]
  },
  {
   "cell_type": "code",
   "execution_count": 4,
   "metadata": {},
   "outputs": [
    {
     "name": "stdout",
     "output_type": "stream",
     "text": [
      "['woman', 'women']\n"
     ]
    }
   ],
   "source": [
    "matches = re.findall(r'wom.n',test)\n",
    "print(matches)"
   ]
  },
  {
   "cell_type": "markdown",
   "metadata": {},
   "source": [
    "You can provide a range of characters like all the capital letters [A-Z] or lower case letters [a-z], or numbers [0-9]. This finds a capitalized word."
   ]
  },
  {
   "cell_type": "code",
   "execution_count": 5,
   "metadata": {},
   "outputs": [
    {
     "name": "stdout",
     "output_type": "stream",
     "text": [
      "['An', 'Here', 'This', 'Don', 'A', 'Don', 'Some', 'Here', 'Here', 'Prepared']\n"
     ]
    }
   ],
   "source": [
    "matches = re.findall(r'[A-Z][a-z]*',test)\n",
    "print(matches)"
   ]
  },
  {
   "cell_type": "markdown",
   "metadata": {},
   "source": [
    "We can use quantifiers to say how many of any characters (.) or of a range of charaters. \n",
    "* **\\*** means any number of (from 0 to any number)\n",
    "* **+** means 1 or more\n",
    "* **?** means 0 or 1"
   ]
  },
  {
   "cell_type": "code",
   "execution_count": 6,
   "metadata": {},
   "outputs": [
    {
     "name": "stdout",
     "output_type": "stream",
     "text": [
      "['An', 'Here', 'This', 'Don', 'Don', 'Some', 'Here', 'Here', 'Prepared']\n"
     ]
    }
   ],
   "source": [
    "matches = re.findall(r'[A-Z][a-z]+',test)\n",
    "print(matches)"
   ]
  },
  {
   "cell_type": "markdown",
   "metadata": {},
   "source": [
    "Note the difference of what we get with * and +.\n",
    "\n",
    "We can also have a mix of letters and other characters in a range. Here we have the lower case letters and the apostrophe."
   ]
  },
  {
   "cell_type": "code",
   "execution_count": 16,
   "metadata": {},
   "outputs": [
    {
     "name": "stdout",
     "output_type": "stream",
     "text": [
      "['An', 'Here', 'This', \"Don't\", 'A', \"Don't\", 'Some', 'Here', 'Here', 'Prepared']\n"
     ]
    }
   ],
   "source": [
    "matches = re.findall(r'[A-Z][a-z\\']*',test)\n",
    "print(matches)"
   ]
  },
  {
   "cell_type": "code",
   "execution_count": 18,
   "metadata": {},
   "outputs": [
    {
     "ename": "SyntaxError",
     "evalue": "invalid syntax (<ipython-input-18-72bb1f645325>, line 1)",
     "output_type": "error",
     "traceback": [
      "\u001b[0;36m  File \u001b[0;32m\"<ipython-input-18-72bb1f645325>\"\u001b[0;36m, line \u001b[0;32m1\u001b[0m\n\u001b[0;31m    We can also specify special sequences using the back slash.\u001b[0m\n\u001b[0m         ^\u001b[0m\n\u001b[0;31mSyntaxError\u001b[0m\u001b[0;31m:\u001b[0m invalid syntax\n"
     ]
    }
   ],
   "source": [
    "We can also specify special sequences using the back slash."
   ]
  },
  {
   "cell_type": "code",
   "execution_count": 14,
   "metadata": {},
   "outputs": [
    {
     "name": "stdout",
     "output_type": "stream",
     "text": [
      "['An', 'Here', 'This', 'Don', 'A ', 'Don', 'Some', 'Here', 'Here', 'Prepared']\n"
     ]
    }
   ],
   "source": [
    "matches = re.findall(r'[A-Z].+?\\b',test)\n",
    "print(matches)"
   ]
  },
  {
   "cell_type": "code",
   "execution_count": null,
   "metadata": {
    "collapsed": true
   },
   "outputs": [],
   "source": []
  }
 ],
 "metadata": {
  "kernelspec": {
   "display_name": "Python 3",
   "language": "python",
   "name": "python3"
  },
  "language_info": {
   "codemirror_mode": {
    "name": "ipython",
    "version": 3
   },
   "file_extension": ".py",
   "mimetype": "text/x-python",
   "name": "python",
   "nbconvert_exporter": "python",
   "pygments_lexer": "ipython3",
   "version": "3.6.1"
  }
 },
 "nbformat": 4,
 "nbformat_minor": 2
}
