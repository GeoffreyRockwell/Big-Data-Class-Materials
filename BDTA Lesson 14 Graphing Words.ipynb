{
 "cells": [
  {
   "cell_type": "markdown",
   "metadata": {},
   "source": [
    "# BDTA Lesson 14: Graphing Words\n",
    "\n",
    "This lesson looks at using *matplotlib* to graph the occurences of words.\n",
    "\n",
    "It is based partly on the [Art of Literary Text Analysis: Getting Graphical](https://github.com/sgsinclair/alta/blob/6dd71da5377217cdee85efba384c8bf66936ab82/ipynb/GettingGraphical.ipynb). See also the documentation for [matplotlib](https://matplotlib.org/)."
   ]
  },
  {
   "cell_type": "markdown",
   "metadata": {},
   "source": [
    "## Getting Things Ready\n",
    "First we need to import what we need from *matplotlib* and make sure it is displayed inline."
   ]
  },
  {
   "cell_type": "code",
   "execution_count": 1,
   "metadata": {
    "collapsed": true
   },
   "outputs": [],
   "source": [
    "import matplotlib.pyplot as plt\n",
    "import nltk\n",
    "\n",
    "# make sure that graphs are embedded into our notebook output\n",
    "%matplotlib inline"
   ]
  },
  {
   "cell_type": "markdown",
   "metadata": {},
   "source": [
    "We can now try to create an empty plot."
   ]
  },
  {
   "cell_type": "code",
   "execution_count": 2,
   "metadata": {},
   "outputs": [
    {
     "data": {
      "text/plain": [
       "[]"
      ]
     },
     "execution_count": 2,
     "metadata": {},
     "output_type": "execute_result"
    },
    {
     "data": {
      "image/png": "[encoded data removed]",
      "text/plain": [
       "<matplotlib.figure.Figure at 0x117868390>"
      ]
     },
     "metadata": {},
     "output_type": "display_data"
    }
   ],
   "source": [
    "plt.plot() # create an empty graph"
   ]
  },
  {
   "cell_type": "markdown",
   "metadata": {},
   "source": [
    "## Getting a Text and Tokenizing It\n",
    "\n",
    "Now we open a text and tokenize it."
   ]
  },
  {
   "cell_type": "code",
   "execution_count": 2,
   "metadata": {},
   "outputs": [
    {
     "name": "stdout",
     "output_type": "stream",
     "text": [
      "FullText.txt                performanceConcordance.txt\r\n",
      "Hume Enquiry.txt            theWritingStory.txt\r\n",
      "StoryOfWriting.txt          truthConcordance.txt\r\n",
      "bigdata.txt\r\n"
     ]
    }
   ],
   "source": [
    "ls *.txt"
   ]
  },
  {
   "cell_type": "code",
   "execution_count": 3,
   "metadata": {},
   "outputs": [
    {
     "name": "stdout",
     "output_type": "stream",
     "text": [
      "This string has 366798 characters.\n",
      "The Project Gutenberg EBook of An Enquiry Concerni\n"
     ]
    }
   ],
   "source": [
    "theText2Use = \"Hume Enquiry.txt\"\n",
    "with open(theText2Use, \"r\") as fileToRead:\n",
    "    theString = fileToRead.read()\n",
    "    \n",
    "print(\"This string has\", len(theString), \"characters.\")\n",
    "print(theString[:50])"
   ]
  },
  {
   "cell_type": "code",
   "execution_count": 4,
   "metadata": {},
   "outputs": [
    {
     "name": "stdout",
     "output_type": "stream",
     "text": [
      "  the    of   and    to     a    in  that    is    it which \n",
      " 3499  2848  2210  1809  1165  1117  1002   955   786   750 \n"
     ]
    }
   ],
   "source": [
    "humeTokensLow = nltk.word_tokenize(theString.lower())\n",
    "\n",
    "# Filter out tokens that aren't words\n",
    "humeWordTokensLow = [word for word in humeTokensLow if word[0].isalpha()]\n",
    "\n",
    "# Determine frequencies\n",
    "humeWordTokensLowFreq = nltk.FreqDist(humeWordTokensLow)\n",
    "\n",
    "# preview the top 20 frequencies\n",
    "humeWordTokensLowFreq.tabulate(10)"
   ]
  },
  {
   "cell_type": "markdown",
   "metadata": {},
   "source": [
    "## Plotting Word Frequencies\n",
    "\n",
    "We can use NLTK's ability to plot things like frequencies."
   ]
  },
  {
   "cell_type": "code",
   "execution_count": 5,
   "metadata": {},
   "outputs": [
    {
     "data": {
      "image/png": "[encoded data removed]",
      "text/plain": [
       "<matplotlib.figure.Figure at 0x117afd438>"
      ]
     },
     "metadata": {},
     "output_type": "display_data"
    }
   ],
   "source": [
    "# plot the top frequency words in a graph\n",
    "humeWordTokensLowFreq.plot(25, title=\"Top Frequency Word Tokens in Hume\")"
   ]
  },
  {
   "cell_type": "markdown",
   "metadata": {},
   "source": [
    "**Content Words**: now we can repeat the process but remove stopwords."
   ]
  },
  {
   "cell_type": "code",
   "execution_count": 6,
   "metadata": {},
   "outputs": [
    {
     "data": {
      "text/plain": [
       "[('may', 295),\n",
       " ('one', 203),\n",
       " ('nature', 200),\n",
       " ('must', 177),\n",
       " ('us', 169),\n",
       " ('experience', 166),\n",
       " ('cause', 157),\n",
       " ('human', 149),\n",
       " ('mind', 145),\n",
       " ('never', 125),\n",
       " ('effect', 124),\n",
       " ('every', 122),\n",
       " ('ideas', 120),\n",
       " ('objects', 120),\n",
       " ('idea', 116),\n",
       " ('reason', 116),\n",
       " ('reasoning', 109),\n",
       " ('upon', 104),\n",
       " ('power', 103),\n",
       " ('though', 102)]"
      ]
     },
     "execution_count": 6,
     "metadata": {},
     "output_type": "execute_result"
    }
   ],
   "source": [
    "# Get the English stopwords from nltk\n",
    "stopwords = nltk.corpus.stopwords.words(\"English\")\n",
    "\n",
    "# Remove stopwords to get a new list of tokens\n",
    "humeContentWordTokensLow = [word for word in humeWordTokensLow if word not in stopwords]\n",
    "\n",
    "# Create a nltk frequency distribution object\n",
    "humeContentWordTokensLowFreq = nltk.FreqDist(humeContentWordTokensLow)\n",
    "\n",
    "# Show the most common words\n",
    "humeContentWordTokensLowFreq.most_common(20)"
   ]
  },
  {
   "cell_type": "markdown",
   "metadata": {},
   "source": [
    "And now we can plot the high frequency words. Note how the curve of this plot is different from the last one."
   ]
  },
  {
   "cell_type": "code",
   "execution_count": 7,
   "metadata": {},
   "outputs": [
    {
     "data": {
      "image/png": "[encoded data removed]",
      "text/plain": [
       "<matplotlib.figure.Figure at 0x117baed30>"
      ]
     },
     "metadata": {},
     "output_type": "display_data"
    }
   ],
   "source": [
    "humeContentWordTokensLowFreq.plot(20, title=\"Top Frequency Content Terms in hume\")"
   ]
  },
  {
   "cell_type": "markdown",
   "metadata": {},
   "source": [
    "We can also get a dispersion plot if we create a nltk text object."
   ]
  },
  {
   "cell_type": "code",
   "execution_count": 44,
   "metadata": {},
   "outputs": [
    {
     "data": {
      "image/png": "[encoded data removed]",
      "text/plain": [
       "<matplotlib.figure.Figure at 0x118903d68>"
      ]
     },
     "metadata": {},
     "output_type": "display_data"
    }
   ],
   "source": [
    "humeText = nltk.Text(humeWordTokensLow)\n",
    "humeText.dispersion_plot([\"truth\",\"true\", \"false\"])"
   ]
  },
  {
   "cell_type": "markdown",
   "metadata": {},
   "source": [
    "## Graphing Word Trends\n",
    "\n",
    "What if we want to graph a word over the span of the text to see how it trends? To do that we need to:\n",
    "* Divide the text into as many sections as we want to graph.\n",
    "* Calculate the frequency for each section.\n",
    "* Plot the trend over the sections."
   ]
  },
  {
   "cell_type": "markdown",
   "metadata": {},
   "source": [
    "First we will figure out how many words there are in each section."
   ]
  },
  {
   "cell_type": "code",
   "execution_count": 8,
   "metadata": {},
   "outputs": [
    {
     "name": "stdout",
     "output_type": "stream",
     "text": [
      "5987\n"
     ]
    }
   ],
   "source": [
    "numWords = len(humeWordTokensLow)\n",
    "sections = 10\n",
    "numSectWords = int(numWords/sections)\n",
    "print(numSectWords)"
   ]
  },
  {
   "cell_type": "markdown",
   "metadata": {},
   "source": [
    "Knowing how many words there are total, how many sections and how many words per section, we can now get the frequency for each section and put it into a list."
   ]
  },
  {
   "cell_type": "code",
   "execution_count": 10,
   "metadata": {},
   "outputs": [
    {
     "name": "stdout",
     "output_type": "stream",
     "text": [
      "[4, 3, 1, 0, 0, 4, 1, 3, 3, 2]\n",
      "Check that 21 should equal 21\n"
     ]
    }
   ],
   "source": [
    "word2Graph = \"truth\" # This is the word to track\n",
    "freqsOfWord = [] # This is the list for the frequencies for each section\n",
    "for n in range(10):\n",
    "    startSearch = n * numSectWords # Calculate the index of the start of the section\n",
    "    stopSearch = startSearch + numSectWords - 1 # Calculate the end of the section\n",
    "    # Get the frequency of the word in the section and append to list\n",
    "    freqsOfWord.append(humeWordTokensLow[startSearch:stopSearch].count(word2Graph)) \n",
    "    \n",
    "# Here we check the list\n",
    "print(freqsOfWord)\n",
    "\n",
    "# We can also compare the sum of the list to the total frequency to check\n",
    "print(\"Check that\", str(sum(freqsOfWord)), \"should equal\", str(humeWordTokensLow.count(word2Graph)))"
   ]
  },
  {
   "cell_type": "markdown",
   "metadata": {},
   "source": [
    "And now we can graph the trend list."
   ]
  },
  {
   "cell_type": "code",
   "execution_count": 39,
   "metadata": {},
   "outputs": [
    {
     "data": {
      "image/png": "[encoded data removed]",
      "text/plain": [
       "<matplotlib.figure.Figure at 0x1188e8cc0>"
      ]
     },
     "metadata": {},
     "output_type": "display_data"
    }
   ],
   "source": [
    "plt.plot(freqsOfWord) # Describe the plot.\n",
    "\n",
    "plt.xlabel('Sections') # X Axis Label\n",
    "plt.ylabel('Frequencies') # Y Axis Label\n",
    "plt.title('Trend Graph') # Plot Title\n",
    "plt.xticks(range(10), range(1,11)) # Relabeling the X-Axis ticks to start with 1\n",
    "\n",
    "plt.show() # Show the plot."
   ]
  },
  {
   "cell_type": "markdown",
   "metadata": {},
   "source": [
    "## Exercise: Graphing More Than a Word\n",
    "\n",
    "Can you plot more than one trend in the same visualization? To do this you should try to create a function that generates the list of frequencies. Then you can graph more than one list in the same plot."
   ]
  },
  {
   "cell_type": "code",
   "execution_count": 65,
   "metadata": {
    "collapsed": true
   },
   "outputs": [],
   "source": [
    "# Here is the shell of a function\n",
    "def getFreqs(theWord2Count,theTokens2Use,theSections):\n",
    "    # ... stuff goes here to calculate the frequencies\n",
    "    return(freqsOfTargetWord)"
   ]
  },
  {
   "cell_type": "code",
   "execution_count": 67,
   "metadata": {},
   "outputs": [
    {
     "data": {
      "text/plain": [
       "[1, 0, 1, 1, 0, 0, 0, 0, 0, 1, 2, 0, 2, 0, 0, 0, 0, 3, 2, 0]"
      ]
     },
     "execution_count": 67,
     "metadata": {},
     "output_type": "execute_result"
    }
   ],
   "source": [
    "# We can then test the function\n",
    "getFreqs(\"false\",humeWordTokensLow,20)"
   ]
  },
  {
   "cell_type": "code",
   "execution_count": null,
   "metadata": {
    "collapsed": true
   },
   "outputs": [],
   "source": [
    "plt.plot() # You need to pass the first word list here\n",
    "plt.plot() # You need to pass the second word list here\n",
    "\n",
    "plt.show()"
   ]
  },
  {
   "cell_type": "markdown",
   "metadata": {},
   "source": [
    "**Optional Bonus**: \n",
    "* Can you create a histogram using matplotlip. \n",
    "* Can you create a bar graph of the data."
   ]
  },
  {
   "cell_type": "markdown",
   "metadata": {
    "collapsed": true
   },
   "source": [
    "----\n",
    "# Homework\n",
    "Find a collection of date ordered texts like a collection of Shakespeare plays. Write a notebook that can:\n",
    "* Calculate frequencies for a word in each text.\n",
    "* Graph those fequencies over the set of texts in chronological order\n",
    "\n",
    "Some ideas on how to do this:\n",
    "* Name your files with the date first.\n",
    "\n",
    "Optional:\n",
    "* Can you get the titles of the texts to be the X-axis tics?\n",
    "* Can you plot more than one word over the collection in the same visualization?\n"
   ]
  },
  {
   "cell_type": "code",
   "execution_count": null,
   "metadata": {
    "collapsed": true
   },
   "outputs": [],
   "source": []
  }
 ],
 "metadata": {
  "kernelspec": {
   "display_name": "Python 3",
   "language": "python",
   "name": "python3"
  },
  "language_info": {
   "codemirror_mode": {
    "name": "ipython",
    "version": 3
   },
   "file_extension": ".py",
   "mimetype": "text/x-python",
   "name": "python",
   "nbconvert_exporter": "python",
   "pygments_lexer": "ipython3",
   "version": "3.6.1"
  }
 },
 "nbformat": 4,
 "nbformat_minor": 2
}
